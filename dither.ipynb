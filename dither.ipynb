{
 "cells": [
  {
   "cell_type": "code",
   "execution_count": 22,
   "metadata": {},
   "outputs": [],
   "source": [
    "from PIL import Image\n",
    "\n",
    "image = Image.open('45420986_262822174415401_6859587359017533440_n.jpg')\n",
    "\n",
    "img_small = image.resize((100,100),resample=Image.BILINEAR)\n",
    "\n",
    "img_small_copy = img_small.copy()\n",
    "\n",
    "width, height = img_small.size\n",
    "\n",
    "pixellist = list(img_small.getdata())\n",
    "\n",
    "# result = imgSmall.resize(image.size,Image.NEAREST)\n"
   ]
  },
  {
   "cell_type": "code",
   "execution_count": 23,
   "metadata": {},
   "outputs": [],
   "source": [
    "def set_quant_err(x, y, image, quant, *err):\n",
    "    width, height = image.size\n",
    "    index = x + y * width\n",
    "    pixellist = list(image.getdata())\n",
    "    red = pixellist[index][0]\n",
    "    green = pixellist[index][1]\n",
    "    blue =  pixellist[index][2]\n",
    "    \n",
    "    red = int(red + err_r * quant)\n",
    "    green = int(green + err_g * quant)\n",
    "    blue =  int(blue + err_b * quant)\n",
    "    \n",
    "    rgb = (red, green, blue)\n",
    "    \n",
    "    image.putpixel((x, y), rgb)\n",
    "    \n",
    "    "
   ]
  },
  {
   "cell_type": "code",
   "execution_count": 25,
   "metadata": {},
   "outputs": [],
   "source": [
    "for y in range(0, height-1):\n",
    "    for x in range(1, width-1):\n",
    "        index = x + y * width\n",
    "        curr_pixel = pixellist[index]\n",
    "        old_r = curr_pixel[0]\n",
    "        old_g = curr_pixel[1]\n",
    "        old_b = curr_pixel[2]\n",
    "        \n",
    "        new_r = round(old_r/255) * 255\n",
    "        new_g = round(old_g/255) * 255\n",
    "        new_b = round(old_b/255) * 255\n",
    "        \n",
    "        new_rgb = (new_r, new_g, new_b)\n",
    "        \n",
    "        img_small_copy.putpixel((x, y), new_rgb)\n",
    "        \n",
    "        err_r = float(old_r - new_r)\n",
    "        err_g = float(old_g - new_g)\n",
    "        err_b = float(old_b - new_b)\n",
    "        \n",
    "        err = [err_r, err_g, err_b]\n",
    "        \n",
    "        \n",
    "        set_quant_err(x + 1, y, img_small_copy, 7 / 16, err_r, err_g, err_b)\n",
    "        set_quant_err(x - 1, y + 1, img_small_copy, 3 / 16, err_r, err_g, err_b)\n",
    "        set_quant_err(x, y + 1, img_small_copy, 5 / 16, err_r, err_g, err_b)\n",
    "        set_quant_err(x + 1, y + 1, img_small_copy, 1 / 16, err_r, err_g, err_b)\n",
    "        \n",
    "\n",
    "img_final = img_small_copy.convert('LA').resize(image.size,Image.NEAREST)\n",
    "img_final.save('save.png')\n"
   ]
  },
  {
   "cell_type": "code",
   "execution_count": null,
   "metadata": {},
   "outputs": [],
   "source": []
  },
  {
   "cell_type": "code",
   "execution_count": null,
   "metadata": {},
   "outputs": [],
   "source": []
  }
 ],
 "metadata": {
  "kernelspec": {
   "display_name": "Python 3",
   "language": "python",
   "name": "python3"
  },
  "language_info": {
   "codemirror_mode": {
    "name": "ipython",
    "version": 3
   },
   "file_extension": ".py",
   "mimetype": "text/x-python",
   "name": "python",
   "nbconvert_exporter": "python",
   "pygments_lexer": "ipython3",
   "version": "3.7.4"
  }
 },
 "nbformat": 4,
 "nbformat_minor": 4
}
